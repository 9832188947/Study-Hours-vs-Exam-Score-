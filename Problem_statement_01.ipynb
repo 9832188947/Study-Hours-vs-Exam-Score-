{
 "cells": [
  {
   "cell_type": "code",
   "execution_count": 61,
   "id": "1813aed3-71d5-433a-b589-feff2413a9d0",
   "metadata": {},
   "outputs": [
    {
     "name": "stdin",
     "output_type": "stream",
     "text": [
      "Enter the number of hours you study (Assume that maximum study hoursis 10):  8\n"
     ]
    },
    {
     "name": "stdout",
     "output_type": "stream",
     "text": [
      "Predicted exam score: 85.24\n"
     ]
    },
    {
     "name": "stderr",
     "output_type": "stream",
     "text": [
      "C:\\Users\\DELL\\anaconda3\\Lib\\site-packages\\sklearn\\base.py:439: UserWarning: X does not have valid feature names, but LinearRegression was fitted with feature names\n",
      "  warnings.warn(\n"
     ]
    }
   ],
   "source": [
    "'''\n",
    "Problem Statement 01\n",
    "\"Predict a students final Exam score based on his study hours\"\n",
    "'''\n",
    "import numpy as np\n",
    "import pandas as pd\n",
    "from sklearn.model_selection import train_test_split\n",
    "from sklearn.linear_model import LinearRegression\n",
    "\n",
    "# Data\n",
    "result = {\n",
    "    'Hours_study': [2, 3, 4, 5, 6, 7, 8, 9, 10],\n",
    "    'Exam_score': [45, 50, 60, 70, 75, 80, 85, 90, 95]\n",
    "}\n",
    "df = pd.DataFrame(result)\n",
    "\n",
    "# Features and Target\n",
    "x = df[['Hours_study']]\n",
    "y = df[['Exam_score']]\n",
    "\n",
    "# Train-Test Split\n",
    "x_train, x_test, y_train, y_test = train_test_split(x, y, test_size=0.2, random_state=42)\n",
    "\n",
    "# Model Training\n",
    "model = LinearRegression()\n",
    "model.fit(x_train, y_train)\n",
    "\n",
    "# User Input\n",
    "user_input = float(input(\"Enter the number of hours you study (Assume that maximum study hoursis 10): \"))\n",
    "\n",
    "# Prediction\n",
    "predicted_score = model.predict([[user_input]])\n",
    "\n",
    "# Printing the Output\n",
    "print(f\"Predicted exam score: {predicted_score[0][0]:.2f}\") \n",
    "# we can also use the To extract the scalar value from the NumPy array, you can use methods like .flatten()[0], .ravel()[0], or simply access [0][0].\n"
   ]
  },
  {
   "cell_type": "code",
   "execution_count": null,
   "id": "230a0209-b36f-4753-bc28-ef8f8a7487fc",
   "metadata": {},
   "outputs": [],
   "source": []
  }
 ],
 "metadata": {
  "kernelspec": {
   "display_name": "Python 3 (ipykernel)",
   "language": "python",
   "name": "python3"
  },
  "language_info": {
   "codemirror_mode": {
    "name": "ipython",
    "version": 3
   },
   "file_extension": ".py",
   "mimetype": "text/x-python",
   "name": "python",
   "nbconvert_exporter": "python",
   "pygments_lexer": "ipython3",
   "version": "3.11.7"
  }
 },
 "nbformat": 4,
 "nbformat_minor": 5
}
